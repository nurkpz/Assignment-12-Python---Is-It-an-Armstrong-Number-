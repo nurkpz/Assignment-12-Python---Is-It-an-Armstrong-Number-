{
 "cells": [
  {
   "cell_type": "code",
   "execution_count": null,
   "id": "56e8f749",
   "metadata": {},
   "outputs": [],
   "source": [
    "number = input(\"Please enter a positive integer number : \")\n",
    "total = 0\n",
    "if number.isdigit() :\n",
    "    n = len(number)\n",
    "    for i in number :\n",
    "        total += int(i)**n\n",
    "    if int(number) == total :\n",
    "         print(f\"{number} is an Armstrong number\")\n",
    "    else :\n",
    "         print(f\"{number} is not an Armstrong number\")\n",
    "   \n",
    "else :\n",
    "    print(\"It is an invalid entry. Don't use non-numeric, float, or negative values!\")"
   ]
  }
 ],
 "metadata": {
  "kernelspec": {
   "display_name": "Python 3 (ipykernel)",
   "language": "python",
   "name": "python3"
  },
  "language_info": {
   "codemirror_mode": {
    "name": "ipython",
    "version": 3
   },
   "file_extension": ".py",
   "mimetype": "text/x-python",
   "name": "python",
   "nbconvert_exporter": "python",
   "pygments_lexer": "ipython3",
   "version": "3.9.12"
  }
 },
 "nbformat": 4,
 "nbformat_minor": 5
}
